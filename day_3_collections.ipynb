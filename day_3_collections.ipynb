{
 "cells": [
  {
   "cell_type": "code",
   "execution_count": null,
   "id": "f8eee848-aff3-48ad-822c-d1d23f7b01b5",
   "metadata": {},
   "outputs": [],
   "source": [
    "#factorial using functions\n",
    "def fact(n):\n",
    "    if n==0:\n",
    "        return 1\n",
    "    else:\n",
    "        return(n*(fact(n-1)))\n",
    "n=int(input(\"enter the number:\"))\n",
    "print(fact(n))"
   ]
  },
  {
   "cell_type": "code",
   "execution_count": null,
   "id": "36b960ac-4f5a-47e0-a753-0765b6ff48de",
   "metadata": {},
   "outputs": [],
   "source": [
    "#fibonacci series using functions\n",
    "def fibonacci(n):\n",
    "    a,b=0,1\n",
    "    for i in range(n):\n",
    "        a,b=b,b+a\n",
    "        print(a,end=\" \")\n",
    "n=int(input(\"how many terms do you want:\"))\n",
    "print(fibonacci(n))"
   ]
  },
  {
   "cell_type": "code",
   "execution_count": null,
   "id": "f40c1a1d-6225-4808-8833-9eb6e8b0d6e6",
   "metadata": {},
   "outputs": [],
   "source": [
    "#find min,max,avg from a list\n",
    "a=[1,2,3,4,5,6,7]\n",
    "n=0\n",
    "print(\"the minimum value of this list is:\",min(a))\n",
    "print(\"the maximum of this list is:\",max(a))\n",
    "for i in a:\n",
    "    n=n+i\n",
    "print(\"the average of this list is:\",(n/(len(a)))"
   ]
  },
  {
   "cell_type": "code",
   "execution_count": null,
   "id": "4602ae75-26af-4cd5-9850-9e70a7298c6d",
   "metadata": {},
   "outputs": [],
   "source": [
    "#create and display students marks dictionary\n",
    "marks_register={\"tamil\":87,\n",
    "                \"english\":98,\n",
    "                \"maths\":68,\n",
    "                \"science\":78,\n",
    "                \"social\":87}\n",
    "print(marks_register)\n",
    "total=sum(marks_register.values())\n",
    "print(\"the total marks scored :\",total)\n",
    "average=total/len(marks_register)\n",
    "print(\"the average of the marks scored:\",average)"
   ]
  },
  {
   "cell_type": "code",
   "execution_count": null,
   "id": "f8488498-cc7e-45c1-bf50-9ec294695b09",
   "metadata": {},
   "outputs": [],
   "source": []
  }
 ],
 "metadata": {
  "kernelspec": {
   "display_name": "Python 3 (ipykernel)",
   "language": "python",
   "name": "python3"
  },
  "language_info": {
   "codemirror_mode": {
    "name": "ipython",
    "version": 3
   },
   "file_extension": ".py",
   "mimetype": "text/x-python",
   "name": "python",
   "nbconvert_exporter": "python",
   "pygments_lexer": "ipython3",
   "version": "3.10.11"
  }
 },
 "nbformat": 4,
 "nbformat_minor": 5
}
