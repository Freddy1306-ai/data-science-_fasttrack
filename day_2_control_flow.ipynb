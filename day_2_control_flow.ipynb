{
 "cells": [
  {
   "cell_type": "code",
   "execution_count": 4,
   "id": "a5806475-b679-4e93-bc33-7fef31b26636",
   "metadata": {},
   "outputs": [
    {
     "name": "stdout",
     "output_type": "stream",
     "text": [
      "the even numbers from 1 to 50 are:\n",
      "2\n",
      "4\n",
      "6\n",
      "8\n",
      "10\n",
      "12\n",
      "14\n",
      "16\n",
      "18\n",
      "20\n",
      "22\n",
      "24\n",
      "26\n",
      "28\n",
      "30\n",
      "32\n",
      "34\n",
      "36\n",
      "38\n",
      "40\n",
      "42\n",
      "44\n",
      "46\n",
      "48\n",
      "50\n"
     ]
    }
   ],
   "source": [
    "#print all the even numbers from 1 to 50\n",
    "print(\"the even numbers from 1 to 50 are:\")\n",
    "for i in range (1,51):\n",
    "    if(i%2==0):\n",
    "        print(i)\n",
    "    "
   ]
  },
  {
   "cell_type": "code",
   "execution_count": 6,
   "id": "6c33298a-e94b-4b59-9537-e4e42e4c1a4d",
   "metadata": {},
   "outputs": [
    {
     "name": "stdout",
     "output_type": "stream",
     "text": [
      "the sum of all numbers from 1 to 100 is: 5050\n"
     ]
    }
   ],
   "source": [
    "#sum of all numbers from 1 to 100\n",
    "n=0\n",
    "for i in range(1,101):\n",
    "    n=n+i\n",
    "print(\"the sum of all numbers from 1 to 100 is:\",n)"
   ]
  },
  {
   "cell_type": "code",
   "execution_count": 8,
   "id": "108864ef-6955-446f-b9c3-06ee6668b0f7",
   "metadata": {
    "scrolled": true
   },
   "outputs": [
    {
     "name": "stdout",
     "output_type": "stream",
     "text": [
      "2 x 1 = 2\n",
      "2 x 2 = 4\n",
      "2 x 3 = 6\n",
      "2 x 4 = 8\n",
      "2 x 5 = 10\n",
      "2 x 6 = 12\n",
      "2 x 7 = 14\n",
      "2 x 8 = 16\n",
      "2 x 9 = 18\n",
      "2 x 10 = 20\n"
     ]
    }
   ],
   "source": [
    "#multiplication table of a number\n",
    "n=2\n",
    "for i in range(1,11):\n",
    "    print(n,\"x\",i,\"=\",n*i)"
   ]
  },
  {
   "cell_type": "code",
   "execution_count": null,
   "id": "29bb5e61-f9a0-4d61-bfee-8f0f89683334",
   "metadata": {},
   "outputs": [],
   "source": [
    "#factorial of the number using loop\n",
    "n=1\n",
    "i=int(input(\"enter the number:\"))\n",
    "while(i>0):\n",
    "    n=n*i\n",
    "    i=i-1\n",
    "print(\"the factorial of the given number is \",n)"
   ]
  },
  {
   "cell_type": "code",
   "execution_count": null,
   "id": "1a877615-1413-415f-8f93-33aba1b7d711",
   "metadata": {},
   "outputs": [],
   "source": []
  }
 ],
 "metadata": {
  "kernelspec": {
   "display_name": "Python 3 (ipykernel)",
   "language": "python",
   "name": "python3"
  },
  "language_info": {
   "codemirror_mode": {
    "name": "ipython",
    "version": 3
   },
   "file_extension": ".py",
   "mimetype": "text/x-python",
   "name": "python",
   "nbconvert_exporter": "python",
   "pygments_lexer": "ipython3",
   "version": "3.10.11"
  }
 },
 "nbformat": 4,
 "nbformat_minor": 5
}
