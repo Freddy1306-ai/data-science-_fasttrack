{
 "cells": [
  {
   "cell_type": "code",
   "execution_count": 1,
   "id": "bcadeaa6-463c-46a4-9d50-059073fabeae",
   "metadata": {},
   "outputs": [
    {
     "name": "stdin",
     "output_type": "stream",
     "text": [
      "enter the operation you want to perform :  addition\n",
      "enter the value of a : 5\n",
      "enter the value of b : 4\n"
     ]
    },
    {
     "name": "stdout",
     "output_type": "stream",
     "text": [
      "the added value of the two numbers is :  9\n"
     ]
    },
    {
     "name": "stdin",
     "output_type": "stream",
     "text": [
      "enter the operation you want to perform :  subtraction\n",
      "enter the value of a : 5\n",
      "enter the value of b : 3\n"
     ]
    },
    {
     "name": "stdout",
     "output_type": "stream",
     "text": [
      "the subtracted value of b from a is :  2\n"
     ]
    },
    {
     "name": "stdin",
     "output_type": "stream",
     "text": [
      "enter the operation you want to perform :  multiplication\n",
      "enter the value of a : 3\n",
      "enter the value of b : 4\n"
     ]
    },
    {
     "name": "stdout",
     "output_type": "stream",
     "text": [
      "the product value of a and b is :  12\n"
     ]
    },
    {
     "name": "stdin",
     "output_type": "stream",
     "text": [
      "enter the operation you want to perform :  history\n"
     ]
    },
    {
     "name": "stdout",
     "output_type": "stream",
     "text": [
      "['addition result:9', 'the subtracted result : 2', 'multiplication result : 12']\n"
     ]
    },
    {
     "name": "stdin",
     "output_type": "stream",
     "text": [
      "enter the operation you want to perform :  exit\n"
     ]
    }
   ],
   "source": [
    "#Mini Project: Calculator with History\n",
    "history=[]\n",
    "\n",
    "def addition():\n",
    "    a=int(input(\"enter the value of a :\"))\n",
    "    b=int(input(\"enter the value of b :\"))\n",
    "    j=a+b\n",
    "    return j\n",
    "def subtraction():\n",
    "    a=int(input(\"enter the value of a :\"))\n",
    "    b=int(input(\"enter the value of b :\"))\n",
    "    j=a-b\n",
    "    return j\n",
    "def multiplication():\n",
    "    a=int(input(\"enter the value of a :\"))\n",
    "    b=int(input(\"enter the value of b :\"))\n",
    "    j=a*b\n",
    "    return j\n",
    "def division():\n",
    "    a=int(input(\"enter the value of a :\"))\n",
    "    b=int(input(\"enter the value of b :\"))\n",
    "    j=a/b\n",
    "    return j\n",
    "\n",
    "while True:\n",
    "    operation=input(\"enter the operation you want to perform : \")\n",
    "    if operation==\"exit\":\n",
    "        break\n",
    "    elif operation==\"addition\":\n",
    "        result=addition()\n",
    "        print(\"the added value of the two numbers is : \",result)\n",
    "        history.append(f\"addition result:{result}\")\n",
    "    \n",
    "    elif operation==\"subtraction\":\n",
    "        result=subtraction()\n",
    "        print(\"the subtracted value of b from a is : \",result)\n",
    "        history.append(f\"the subtracted result : {result}\")\n",
    "    elif operation==\"multiplication\":\n",
    "        result=multiplication()\n",
    "        print(\"the product value of a and b is : \",result)\n",
    "        history.append(f\"multiplication result : {result}\")\n",
    "    elif operation==\"division\":\n",
    "        result=division()\n",
    "        print(\"the divided value of a by b is : \",result)\n",
    "        history.append(f\"division result : {result}\")\n",
    "\n",
    "    elif operation==\"history\":\n",
    "        print(history)\n",
    "    \n",
    "    else:\n",
    "        print(\"operation not found\")"
   ]
  },
  {
   "cell_type": "code",
   "execution_count": null,
   "id": "2569e96e-9bff-46d6-b129-a2530e491a9a",
   "metadata": {},
   "outputs": [],
   "source": []
  }
 ],
 "metadata": {
  "kernelspec": {
   "display_name": "Python 3 (ipykernel)",
   "language": "python",
   "name": "python3"
  },
  "language_info": {
   "codemirror_mode": {
    "name": "ipython",
    "version": 3
   },
   "file_extension": ".py",
   "mimetype": "text/x-python",
   "name": "python",
   "nbconvert_exporter": "python",
   "pygments_lexer": "ipython3",
   "version": "3.10.11"
  }
 },
 "nbformat": 4,
 "nbformat_minor": 5
}
