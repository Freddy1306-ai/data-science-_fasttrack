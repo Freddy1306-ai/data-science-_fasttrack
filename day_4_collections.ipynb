{
 "cells": [
  {
   "cell_type": "code",
   "execution_count": 1,
   "id": "6a56f8a0-8116-4d2f-979a-21a54ac85f8d",
   "metadata": {},
   "outputs": [
    {
     "name": "stdin",
     "output_type": "stream",
     "text": [
      "enter the number: 10\n"
     ]
    },
    {
     "name": "stdout",
     "output_type": "stream",
     "text": [
      "False\n"
     ]
    }
   ],
   "source": [
    "#check whether a number is prime using function\n",
    "def prime(n):\n",
    "    if n<=1:\n",
    "        return False\n",
    "    for i in range(2,n):\n",
    "        if n%i==0:\n",
    "            return False\n",
    "    return True\n",
    "\n",
    "n=int(input(\"enter the number:\"))\n",
    "print(prime(n))"
   ]
  },
  {
   "cell_type": "code",
   "execution_count": 2,
   "id": "30897bb8-421c-44fb-975c-90ef62a6c222",
   "metadata": {},
   "outputs": [
    {
     "name": "stdin",
     "output_type": "stream",
     "text": [
      "enter the string : freddy\n"
     ]
    },
    {
     "name": "stdout",
     "output_type": "stream",
     "text": [
      "ydderf\n"
     ]
    }
   ],
   "source": [
    "#function that reverses the given string\n",
    "def rev_string(n):\n",
    "    str1=n\n",
    "    str2=\"\"\n",
    "    str2+=str1[::-1]\n",
    "    return str2\n",
    "n=input(\"enter the string :\")\n",
    "print(rev_string(n))"
   ]
  },
  {
   "cell_type": "code",
   "execution_count": 4,
   "id": "2bb85065-af8c-4d83-9c0e-31bb38d1df41",
   "metadata": {},
   "outputs": [
    {
     "name": "stdin",
     "output_type": "stream",
     "text": [
      "enter the string: Elephant\n"
     ]
    },
    {
     "name": "stdout",
     "output_type": "stream",
     "text": [
      "the number of vowels in the given string is : 3\n"
     ]
    }
   ],
   "source": [
    "#function that counts the number of vowels in a string\n",
    "def vowels_count(n):\n",
    "    count=0\n",
    "    for i in(n.lower()):\n",
    "        if i in (\"a\",\"e\",\"i\",\"o\",\"u\"):\n",
    "            count+=1\n",
    "    return count\n",
    "n=input(\"enter the string:\")\n",
    "print(\"the number of vowels in the given string is :\",vowels_count(n))"
   ]
  },
  {
   "cell_type": "code",
   "execution_count": 5,
   "id": "417da8b7-c8e2-42b0-9f10-0518dba4ae75",
   "metadata": {},
   "outputs": [
    {
     "name": "stdin",
     "output_type": "stream",
     "text": [
      "enter the numbers: 12 45 78 101 135 164\n"
     ]
    },
    {
     "name": "stdout",
     "output_type": "stream",
     "text": [
      "[12, 45, 78, 101, 135, 164]\n",
      "[12, 78, 164]\n"
     ]
    }
   ],
   "source": [
    "#function that takes a list and returns only the even numbers\n",
    "def even_numbers(n):\n",
    "    lst=[]\n",
    "    for i in n:\n",
    "        if i%2==0:\n",
    "            lst.append(i)\n",
    "    print(lst)\n",
    "b=input(\"enter the numbers:\")\n",
    "n=list(map(int,b.split()))\n",
    "print(n)\n",
    "even_numbers(n)"
   ]
  },
  {
   "cell_type": "code",
   "execution_count": 6,
   "id": "aafdeb3c-7484-48d4-ab91-2a903de58f5d",
   "metadata": {},
   "outputs": [
    {
     "name": "stdin",
     "output_type": "stream",
     "text": [
      "enter the tamil mark: 85\n",
      "enter the english mark: 45\n",
      "enter the maths mark: 75\n",
      "enter the science mark: 96\n",
      "enter the social mark: 65\n"
     ]
    },
    {
     "name": "stdout",
     "output_type": "stream",
     "text": [
      "the total marks: 366\n",
      "the average of these marks: 73.2\n",
      "B grade\n"
     ]
    }
   ],
   "source": [
    "#Student Marks System using dictionary\n",
    "marks={\"tamil\":int(input(\"enter the tamil mark:\")),\n",
    "       \"english\":int(input(\"enter the english mark:\")),\n",
    "       \"maths\":int(input(\"enter the maths mark:\")),\n",
    "       \"science\":int(input(\"enter the science mark:\")),\n",
    "       \"social\":int(input(\"enter the social mark:\"))}\n",
    "def total():\n",
    "    total=sum(marks.values())\n",
    "    print(\"the total marks:\",total)\n",
    "    average=total/len(marks.values())\n",
    "    print(\"the average of these marks:\",average)\n",
    "    if average>=80 and average<=100:\n",
    "        print(\"A grade\")\n",
    "    elif average>=60 and average<80:\n",
    "        print(\"B grade\")\n",
    "    elif average>=35 and average<60:\n",
    "        print(\"C grade\")\n",
    "    else:\n",
    "        print(\"fail\")\n",
    "total()"
   ]
  },
  {
   "cell_type": "code",
   "execution_count": null,
   "id": "4848fc18-f516-4e46-b85b-fa5beb61cb1e",
   "metadata": {},
   "outputs": [],
   "source": []
  }
 ],
 "metadata": {
  "kernelspec": {
   "display_name": "Python 3 (ipykernel)",
   "language": "python",
   "name": "python3"
  },
  "language_info": {
   "codemirror_mode": {
    "name": "ipython",
    "version": 3
   },
   "file_extension": ".py",
   "mimetype": "text/x-python",
   "name": "python",
   "nbconvert_exporter": "python",
   "pygments_lexer": "ipython3",
   "version": "3.10.11"
  }
 },
 "nbformat": 4,
 "nbformat_minor": 5
}
