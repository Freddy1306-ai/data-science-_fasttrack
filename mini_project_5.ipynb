{
 "cells": [
  {
   "cell_type": "code",
   "execution_count": 1,
   "id": "d8b1e3a3-402a-4d12-bef2-640a5cf3a397",
   "metadata": {},
   "outputs": [
    {
     "name": "stdout",
     "output_type": "stream",
     "text": [
      "\n",
      "Available Books:\n",
      "book1: Psychology of Money by Freddy (2 copies)\n",
      "book2: Atomic Habits by Freak (2 copies)\n"
     ]
    },
    {
     "name": "stdin",
     "output_type": "stream",
     "text": [
      "\n",
      "Enter book key (book1/book2) or 'exit':  book1\n"
     ]
    },
    {
     "name": "stdout",
     "output_type": "stream",
     "text": [
      " Title: Psychology of Money\n",
      " Author: Freddy\n",
      " Copies available: 2\n"
     ]
    },
    {
     "name": "stdin",
     "output_type": "stream",
     "text": [
      "Choose action (borrow/return/donate/buy):  donate\n"
     ]
    },
    {
     "name": "stdout",
     "output_type": "stream",
     "text": [
      "Thanks for your contribution!\n",
      "\n",
      "Available Books:\n",
      "book1: Psychology of Money by Freddy (3 copies)\n",
      "book2: Atomic Habits by Freak (2 copies)\n"
     ]
    },
    {
     "name": "stdin",
     "output_type": "stream",
     "text": [
      "\n",
      "Enter book key (book1/book2) or 'exit':  exit\n"
     ]
    }
   ],
   "source": [
    "class Book:\n",
    "    def __init__(self, title, author, copies):\n",
    "        self.title = title\n",
    "        self.author = author\n",
    "        self.copies = copies\n",
    "\n",
    "    def display(self):\n",
    "        print(f\" Title: {self.title}\")\n",
    "        print(f\" Author: {self.author}\")\n",
    "        print(f\" Copies available: {self.copies}\")\n",
    "        \n",
    "    def borrow(self):\n",
    "        if self.copies > 0:\n",
    "            self.copies -= 1\n",
    "            print(\"Book borrowed successfully!\")\n",
    "        else:\n",
    "            print(\"Book not available.\")\n",
    "\n",
    "    def return_book(self):\n",
    "        self.copies += 1\n",
    "        print(\"Book returned. Thank you!\")\n",
    "\n",
    "    def donate(self):\n",
    "        self.copies += 1\n",
    "        print(\"Thanks for your contribution!\")\n",
    "\n",
    "    def buy(self):\n",
    "        if self.copies > 0:\n",
    "            self.copies -= 1\n",
    "            print(\"Book bought successfully!\")\n",
    "        else:\n",
    "            print(\"Out of stock.\")\n",
    "\n",
    "class Library:\n",
    "    def __init__(self):\n",
    "        self.books = {\n",
    "            \"book1\": Book(\"Psychology of Money\", \"Freddy\", 2),\n",
    "            \"book2\": Book(\"Atomic Habits\", \"Freak\", 2)\n",
    "        }\n",
    "\n",
    "    def show_books(self):\n",
    "        print(\"\\nAvailable Books:\")\n",
    "        for key, book in self.books.items():\n",
    "            print(f\"{key}: {book.title} by {book.author} ({book.copies} copies)\")\n",
    "\n",
    "\n",
    "library = Library()\n",
    "\n",
    "while True:\n",
    "    library.show_books()\n",
    "    choice = input(\"\\nEnter book key (book1/book2) or 'exit': \")\n",
    "\n",
    "    if choice == \"exit\":\n",
    "        break\n",
    "    elif choice in library.books:\n",
    "        book = library.books[choice]\n",
    "        book.display()\n",
    "        action = input(\"Choose action (borrow/return/donate/buy): \")\n",
    "\n",
    "        if action == \"borrow\":\n",
    "            book.borrow()\n",
    "        elif action == \"return\":\n",
    "            book.return_book()\n",
    "        elif action == \"donate\":\n",
    "            book.donate()\n",
    "        elif action == \"buy\":\n",
    "            book.buy()\n",
    "        else:\n",
    "            print(\"Invalid action.\")\n",
    "    else:\n",
    "        print(\"Book not found.\")\n"
   ]
  },
  {
   "cell_type": "code",
   "execution_count": null,
   "id": "b9af0521-f32e-4ddc-a22f-19727006ba5c",
   "metadata": {},
   "outputs": [],
   "source": []
  }
 ],
 "metadata": {
  "kernelspec": {
   "display_name": "Python 3 (ipykernel)",
   "language": "python",
   "name": "python3"
  },
  "language_info": {
   "codemirror_mode": {
    "name": "ipython",
    "version": 3
   },
   "file_extension": ".py",
   "mimetype": "text/x-python",
   "name": "python",
   "nbconvert_exporter": "python",
   "pygments_lexer": "ipython3",
   "version": "3.10.11"
  }
 },
 "nbformat": 4,
 "nbformat_minor": 5
}
