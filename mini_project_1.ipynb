{
 "cells": [
  {
   "cell_type": "code",
   "execution_count": 1,
   "id": "455d4760-ff44-46d7-b937-02dfdacca0cf",
   "metadata": {},
   "outputs": [
    {
     "name": "stdout",
     "output_type": "stream",
     "text": [
      "data science is great right\n"
     ]
    }
   ],
   "source": [
    "#data cleaning mini project\n",
    "import re\n",
    "str1=\"Data Science!!! is great,right???\"\n",
    "str1=str1.lower()\n",
    "str1=re.sub(r\"[^a-z\\s]\",' ',str1)\n",
    "str1=re.sub(r\"\\s+\",' ',str1).strip()\n",
    "print(str1)"
   ]
  },
  {
   "cell_type": "code",
   "execution_count": null,
   "id": "47f8148c-07b2-4289-b9fe-1f8a7711d0c8",
   "metadata": {},
   "outputs": [],
   "source": []
  }
 ],
 "metadata": {
  "kernelspec": {
   "display_name": "Python 3 (ipykernel)",
   "language": "python",
   "name": "python3"
  },
  "language_info": {
   "codemirror_mode": {
    "name": "ipython",
    "version": 3
   },
   "file_extension": ".py",
   "mimetype": "text/x-python",
   "name": "python",
   "nbconvert_exporter": "python",
   "pygments_lexer": "ipython3",
   "version": "3.10.11"
  }
 },
 "nbformat": 4,
 "nbformat_minor": 5
}
