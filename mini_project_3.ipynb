{
 "cells": [
  {
   "cell_type": "code",
   "execution_count": 1,
   "id": "52af0f43-2e9d-4529-a8f3-efc942835c43",
   "metadata": {},
   "outputs": [
    {
     "name": "stdout",
     "output_type": "stream",
     "text": [
      "\n",
      "--- Report Card ---\n",
      "Math: 88\n",
      "Science: 92\n",
      "English: 76\n",
      "History: 81\n",
      "Total: 337, Average: 84.25, Grade: A\n"
     ]
    }
   ],
   "source": [
    "#mini project 3\n",
    "#Report Card System\n",
    "marks = {\n",
    "    \"Math\": 88,\n",
    "    \"Science\": 92,\n",
    "    \"English\": 76,\n",
    "    \"History\": 81\n",
    "}\n",
    "\n",
    "total = sum(marks.values())\n",
    "avg = total / len(marks)\n",
    "\n",
    "if avg >= 90:\n",
    "    grade = \"A+\"\n",
    "elif avg >= 80:\n",
    "    grade = \"A\"\n",
    "elif avg >= 70:\n",
    "    grade = \"B\"\n",
    "else:\n",
    "    grade = \"C\"\n",
    "\n",
    "print(\"\\n--- Report Card ---\")\n",
    "for subject, score in marks.items():\n",
    "    print(f\"{subject}: {score}\")\n",
    "print(f\"Total: {total}, Average: {avg}, Grade: {grade}\")\n"
   ]
  },
  {
   "cell_type": "code",
   "execution_count": null,
   "id": "301c3091-b76d-4c6a-bcd8-8bb2849ee9ac",
   "metadata": {},
   "outputs": [],
   "source": []
  }
 ],
 "metadata": {
  "kernelspec": {
   "display_name": "Python 3 (ipykernel)",
   "language": "python",
   "name": "python3"
  },
  "language_info": {
   "codemirror_mode": {
    "name": "ipython",
    "version": 3
   },
   "file_extension": ".py",
   "mimetype": "text/x-python",
   "name": "python",
   "nbconvert_exporter": "python",
   "pygments_lexer": "ipython3",
   "version": "3.10.11"
  }
 },
 "nbformat": 4,
 "nbformat_minor": 5
}
