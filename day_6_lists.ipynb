{
 "cells": [
  {
   "cell_type": "code",
   "execution_count": 1,
   "id": "85704637-ce02-4811-86fe-3a8f8de1b424",
   "metadata": {},
   "outputs": [
    {
     "name": "stdout",
     "output_type": "stream",
     "text": [
      "the first element of the list is  apple\n",
      "the third element of the list is  grapes\n",
      "the last element of the list is  orange\n",
      "the middle elements of the list are  ['mango', 'grapes', 'banana']\n"
     ]
    }
   ],
   "source": [
    "#create list and access elements\n",
    "my_lst=['apple','mango','grapes','banana','orange']\n",
    "print(\"the first element of the list is \",my_lst[0])\n",
    "print(\"the third element of the list is \",my_lst[2])\n",
    "print(\"the last element of the list is \",my_lst[len(my_lst)-1])\n",
    "print(\"the middle elements of the list are \",my_lst[1:4])"
   ]
  },
  {
   "cell_type": "code",
   "execution_count": 2,
   "id": "cd58f100-86f5-452d-b709-fffd9f0fbe78",
   "metadata": {},
   "outputs": [
    {
     "name": "stdout",
     "output_type": "stream",
     "text": [
      "all elements of the two lists are  ['apple', 2, 3, 4, 5, 6, 7, 8]\n",
      "['apple', 2, 3, 4, 'apple', 2, 3, 4, 'apple', 2, 3, 4]\n",
      "apple is present\n"
     ]
    }
   ],
   "source": [
    "#list operations\n",
    "#concatenation\n",
    "my_lst_1=['apple',2,3,4]\n",
    "my_lst_2=[5,6,7,8]\n",
    "my_lst_3=my_lst_1+my_lst_2\n",
    "print(\"all elements of the two lists are \",my_lst_3)\n",
    "\n",
    "#repetition\n",
    "print(my_lst_1*3)\n",
    "\n",
    "#membership test\n",
    "if 'apple' in my_lst_1:\n",
    "    print(\"apple is present\")\n",
    "else:\n",
    "    print(\"apple is not found\")"
   ]
  },
  {
   "cell_type": "code",
   "execution_count": 3,
   "id": "4fc98343-e899-4df7-bee0-b2a23cb16d2e",
   "metadata": {},
   "outputs": [
    {
     "name": "stdout",
     "output_type": "stream",
     "text": [
      "['apple', 1, 2, 3, 4, 5, 'A', 'B', 'C']\n",
      "[5, 8]\n",
      "the sorted and reversed list is  ['P', 'P', 'L', 'E', 'A']\n"
     ]
    }
   ],
   "source": [
    "#list methods\n",
    "my_lst_1=['apple',2,3,4]\n",
    "my_lst_2=[5,6,7,8]\n",
    "my_lst_1.append(5)\n",
    "my_lst_1.insert(1,1)\n",
    "my_lst_1.extend('ABC')\n",
    "print(my_lst_1)\n",
    "\n",
    "my_lst_2.remove(6)\n",
    "my_lst_2.pop(-2)\n",
    "\n",
    "print(my_lst_2)\n",
    "\n",
    "\n",
    "my_lst_3=sorted(\"APPLE\")\n",
    "my_lst_3=my_lst_3[::-1]\n",
    "print(\"the sorted and reversed list is \",my_lst_3)\n"
   ]
  },
  {
   "cell_type": "code",
   "execution_count": 4,
   "id": "3039a4a6-385a-483f-98c8-a3fd719ad5c1",
   "metadata": {},
   "outputs": [
    {
     "name": "stdout",
     "output_type": "stream",
     "text": [
      "[0, 1, 4, 9, 16, 25, 36, 49, 64, 81, 100]\n",
      "[0, 2, 4, 6, 8, 10, 12, 14, 16, 18, 20]\n",
      "[[1, 2, 3], [2, 4, 6], [3, 6, 9]]\n"
     ]
    }
   ],
   "source": [
    "#list comprehensions\n",
    "#Generate a list of squares of numbers from 1–10\n",
    "my_lst_1=[x**2 for x in range(11)]\n",
    "print(my_lst_1)\n",
    "\n",
    "#Extract only even numbers from 1–20\n",
    "my_lst_2=[x for x in range(21) if x%2==0]\n",
    "print(my_lst_2)\n",
    "\n",
    "#Create a nested list comprehension for a multiplication table (1–3).\n",
    "my_lst_3=[[x*y for x in range(1,4)] for y in range(1,4)]\n",
    "print(my_lst_3)"
   ]
  },
  {
   "cell_type": "code",
   "execution_count": 5,
   "id": "a97a277f-0f26-46e1-975e-b5060566f8b9",
   "metadata": {},
   "outputs": [
    {
     "name": "stdout",
     "output_type": "stream",
     "text": [
      "2\n",
      "the total value of the list 2 is : 21\n",
      "the largest value of the list 2 is : 6\n",
      "the smallest value of the list 2 is : 1\n",
      "list before sorting : \n",
      " [1, 3, 4, 2, 6, 5]\n",
      "list after sorting : \n",
      " [1, 2, 3, 4, 5, 6]\n",
      "['I', 'like', 'to', 'become', 'a', 'data', 'scientist']\n",
      "I like to become a data scientist\n"
     ]
    }
   ],
   "source": [
    "#advanced list operations\n",
    "#Create a nested list (matrix) and access elements\n",
    "my_lst_1=[[1,2,3,4],[2,3,4,5],[5,6,3,4]]\n",
    "print(my_lst_1[0][1])\n",
    "\n",
    "#Use sum(), max(), min(), and sorted() on a numeric list.\n",
    "my_lst_2=[1,3,4,2,6,5]\n",
    "print(\"the total value of the list 2 is :\",sum(my_lst_2))\n",
    "print(\"the largest value of the list 2 is :\",max(my_lst_2))\n",
    "print(\"the smallest value of the list 2 is :\",min(my_lst_2))\n",
    "print(\"list before sorting : \\n\",my_lst_2)\n",
    "print(\"list after sorting : \\n\",sorted(my_lst_2))\n",
    "\n",
    "#Convert a sentence into a list of words using split(), then join them back\n",
    "sentence=\"I like to become a data scientist\"\n",
    "words=sentence.split()\n",
    "print(words)\n",
    "\n",
    "sentence_2=\" \".join(words)\n",
    "print(sentence_2)"
   ]
  },
  {
   "cell_type": "code",
   "execution_count": null,
   "id": "18a6346f-d5cf-401f-9e4d-f6c30e948309",
   "metadata": {},
   "outputs": [],
   "source": []
  }
 ],
 "metadata": {
  "kernelspec": {
   "display_name": "Python 3 (ipykernel)",
   "language": "python",
   "name": "python3"
  },
  "language_info": {
   "codemirror_mode": {
    "name": "ipython",
    "version": 3
   },
   "file_extension": ".py",
   "mimetype": "text/x-python",
   "name": "python",
   "nbconvert_exporter": "python",
   "pygments_lexer": "ipython3",
   "version": "3.10.11"
  }
 },
 "nbformat": 4,
 "nbformat_minor": 5
}
