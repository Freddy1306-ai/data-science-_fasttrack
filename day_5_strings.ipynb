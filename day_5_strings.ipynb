{
 "cells": [
  {
   "cell_type": "code",
   "execution_count": 1,
   "id": "d06650fc-343e-4628-a817-9a64b5a5f0cc",
   "metadata": {},
   "outputs": [
    {
     "name": "stdin",
     "output_type": "stream",
     "text": [
      "enter the string: freddy\n"
     ]
    },
    {
     "name": "stdout",
     "output_type": "stream",
     "text": [
      "the first three characters of the string are :  fre\n",
      "the last two characters of the string are :  yd\n"
     ]
    }
   ],
   "source": [
    "#print the first 3 characters and the last 2 characters\n",
    "str1=input(\"enter the string:\")\n",
    "str2=str1[::-1]\n",
    "print(\"the first three characters of the string are : \",str1[:3])\n",
    "print(\"the last two characters of the string are : \",str2[:2])\n",
    "\n"
   ]
  },
  {
   "cell_type": "code",
   "execution_count": 2,
   "id": "e4c388c8-35b4-4e06-a46a-34393128a97b",
   "metadata": {},
   "outputs": [
    {
     "name": "stdin",
     "output_type": "stream",
     "text": [
      "enter your name: freddy\n",
      "enter your age: 20\n"
     ]
    },
    {
     "name": "stdout",
     "output_type": "stream",
     "text": [
      "My name is freddy and I am 20 years old\n"
     ]
    }
   ],
   "source": [
    "#print stings using formats\n",
    "x=input(\"enter your name:\")\n",
    "y=int(input(\"enter your age:\"))\n",
    "print(\"My name is {} and I am {} years old\".format(x,y))"
   ]
  },
  {
   "cell_type": "code",
   "execution_count": 4,
   "id": "8722b3b0-78e9-4060-a982-bd5bd88a52fc",
   "metadata": {},
   "outputs": [
    {
     "name": "stdout",
     "output_type": "stream",
     "text": [
      "123\n",
      "456\n",
      "2025\n",
      "08\n",
      "16\n"
     ]
    }
   ],
   "source": [
    "#regex functions\n",
    "import re\n",
    "str1=\"Order123,price=$456,date=2025-08-16\"\n",
    "str2=re.compile(r'\\d\\d+')\n",
    "pattern=str2.findall(str1)\n",
    "for match in pattern:\n",
    "    print(match)"
   ]
  },
  {
   "cell_type": "code",
   "execution_count": 5,
   "id": "68f5085a-7cde-4410-a6c3-9a744aa7098d",
   "metadata": {},
   "outputs": [
    {
     "name": "stdout",
     "output_type": "stream",
     "text": [
      "['Hello', 'World']\n"
     ]
    }
   ],
   "source": [
    "#regex functions\n",
    "import re\n",
    "str1=\"@@Hello!!! World###\"\n",
    "str2=re.compile(r\"\\w+\")\n",
    "pattern=str2.findall(str1)\n",
    "print(pattern)"
   ]
  },
  {
   "cell_type": "code",
   "execution_count": 6,
   "id": "0a96dc3b-f0cc-4add-9050-c5eae7933acf",
   "metadata": {},
   "outputs": [
    {
     "name": "stdin",
     "output_type": "stream",
     "text": [
      "enter the string : madam\n"
     ]
    },
    {
     "name": "stdout",
     "output_type": "stream",
     "text": [
      "the given string is palindrome\n"
     ]
    }
   ],
   "source": [
    "#palindrome\n",
    "str1=input(\"enter the string :\")\n",
    "str2=str1[::-1]\n",
    "if str1==str2:\n",
    "    print(\"the given string is palindrome\")\n",
    "else:\n",
    "    print(\"the given string is not a palindrome\")"
   ]
  },
  {
   "cell_type": "code",
   "execution_count": 7,
   "id": "9b5377be-aeb4-4767-b41f-4e4b2caa9eca",
   "metadata": {},
   "outputs": [
    {
     "name": "stdin",
     "output_type": "stream",
     "text": [
      "enter the string 1 : foam\n",
      "enter the string 2 : roam\n"
     ]
    },
    {
     "name": "stdout",
     "output_type": "stream",
     "text": [
      "it is not an anagram\n"
     ]
    }
   ],
   "source": [
    "#anagram\n",
    "str1=input(\"enter the string 1 :\").replace(\"\",\"\").lower()\n",
    "str2=input(\"enter the string 2 :\").replace(\"\",\"\").lower()\n",
    "if sorted(str1)==sorted(str2):\n",
    "    print(\"it is an anagram\")\n",
    "else:\n",
    "    print(\"it is not an anagram\")\n"
   ]
  },
  {
   "cell_type": "code",
   "execution_count": null,
   "id": "10768ae2-4b5b-45d8-be97-2473768b953e",
   "metadata": {},
   "outputs": [],
   "source": []
  }
 ],
 "metadata": {
  "kernelspec": {
   "display_name": "Python 3 (ipykernel)",
   "language": "python",
   "name": "python3"
  },
  "language_info": {
   "codemirror_mode": {
    "name": "ipython",
    "version": 3
   },
   "file_extension": ".py",
   "mimetype": "text/x-python",
   "name": "python",
   "nbconvert_exporter": "python",
   "pygments_lexer": "ipython3",
   "version": "3.10.11"
  }
 },
 "nbformat": 4,
 "nbformat_minor": 5
}
