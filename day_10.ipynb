{
 "cells": [
  {
   "cell_type": "code",
   "execution_count": 1,
   "id": "eb3bac21-dd89-42f0-91e8-221920c8b051",
   "metadata": {},
   "outputs": [
    {
     "name": "stdout",
     "output_type": "stream",
     "text": [
      "mention the brand and model of the car you want to order\n"
     ]
    },
    {
     "name": "stdin",
     "output_type": "stream",
     "text": [
      "enter the brand: \n",
      " bmw\n",
      "enter the model: \n",
      " b6\n"
     ]
    },
    {
     "name": "stdout",
     "output_type": "stream",
     "text": [
      " \n",
      " car ordered\n"
     ]
    }
   ],
   "source": [
    "#simple basics\n",
    "import time\n",
    "class vehicle():\n",
    "    def order(self):\n",
    "        brand=input(\"enter the brand: \\n\")\n",
    "        model=input(\"enter the model: \\n\")\n",
    "    \n",
    "class car(vehicle):\n",
    "    print(\"mention the brand and model of the car you want to order\")\n",
    "   \n",
    "c=car()\n",
    "c.order()\n",
    "time.sleep(5)\n",
    "print(\" \\n car ordered\")"
   ]
  },
  {
   "cell_type": "code",
   "execution_count": 3,
   "id": "69d371eb-e39d-4f1a-8b29-e8f57df23ab1",
   "metadata": {},
   "outputs": [
    {
     "name": "stdout",
     "output_type": "stream",
     "text": [
      "name:  freddy\n",
      "age:  20\n",
      "marks : 78\n"
     ]
    }
   ],
   "source": [
    "#single inheritance\n",
    "class Person():\n",
    "    def __init__(self,a,b):\n",
    "        self.name=a\n",
    "        self.age=b\n",
    "    def register(self):\n",
    "        print(\"name: \",self.name)\n",
    "        print(\"age: \",self.age)\n",
    "\n",
    "class Student(Person):\n",
    "    def __init__(self,a,b,c):\n",
    "        super().__init__(a,b)\n",
    "        self.mark=c\n",
    "\n",
    "    def display(self):  \n",
    "        print(\"marks :\",self.mark)\n",
    "\n",
    "s=Student(\"freddy\",20,78)\n",
    "s.register()\n",
    "s.display()\n"
   ]
  },
  {
   "cell_type": "code",
   "execution_count": 4,
   "id": "8665a537-7889-4d36-aae8-4a29e6616f1f",
   "metadata": {},
   "outputs": [
    {
     "name": "stdout",
     "output_type": "stream",
     "text": [
      "dad's phone\n",
      "mom's sweet\n",
      "son's laptop\n"
     ]
    }
   ],
   "source": [
    "#multiple inheritance\n",
    "class father():\n",
    "    def phone(self):\n",
    "        print(\"dad's phone\")\n",
    "\n",
    "class mom():\n",
    "    def sweet(self):\n",
    "        print(\"mom's sweet\")\n",
    "\n",
    "class son(father,mom):\n",
    "    def laptop(self):\n",
    "        print(\"son's laptop\")\n",
    "\n",
    "s=son()\n",
    "s.phone()\n",
    "s.sweet()\n",
    "s.laptop()\n"
   ]
  },
  {
   "cell_type": "code",
   "execution_count": 5,
   "id": "a01328b3-22fb-40ba-81c6-29545662958e",
   "metadata": {},
   "outputs": [
    {
     "name": "stdout",
     "output_type": "stream",
     "text": [
      "animal breathes wild\n",
      "but mammals often care about others.\n",
      "Among mammals dogs shows higher trust\n"
     ]
    }
   ],
   "source": [
    "#multilevel inheritance\n",
    "class animal():\n",
    "    def breathe(self):\n",
    "        print(\"animal breathes wild\")\n",
    "\n",
    "class mammal(animal):\n",
    "    def warm_blooded(self):\n",
    "        print(\"but mammals often care about others.\")\n",
    "\n",
    "class Dog(mammal):\n",
    "    def bark(self):\n",
    "        print(\"Among mammals dogs shows higher trust\")\n",
    "\n",
    "\n",
    "d=Dog()\n",
    "d.breathe()\n",
    "d.warm_blooded()\n",
    "d.bark()"
   ]
  },
  {
   "cell_type": "code",
   "execution_count": 6,
   "id": "4caf48c1-f5bc-4d95-9aca-b2f25842c5ca",
   "metadata": {},
   "outputs": [
    {
     "name": "stdin",
     "output_type": "stream",
     "text": [
      "enter the shape : circle\n"
     ]
    },
    {
     "name": "stdout",
     "output_type": "stream",
     "text": [
      "searching directory..... \n"
     ]
    },
    {
     "name": "stdin",
     "output_type": "stream",
     "text": [
      "enter the radius : 4\n"
     ]
    },
    {
     "name": "stdout",
     "output_type": "stream",
     "text": [
      "the area of the circle is :  50.24\n"
     ]
    }
   ],
   "source": [
    "#hierarchical inheritance\n",
    "import time\n",
    "class shape():\n",
    "    def __init__(self):\n",
    "        print(\"searching directory..... \")\n",
    "\n",
    "class circle(shape):\n",
    "    def area(self):\n",
    "        self.radius=int(input(\"enter the radius :\"))\n",
    "        a=3.14*(self.radius**2)\n",
    "        print(\"the area of the circle is : \",a)\n",
    "\n",
    "class rectangle(shape):\n",
    "    def area_2(self):\n",
    "        self.length=int(input(\"enter the length : \"))\n",
    "        self.breadth=int(input(\"enter the breadth :\"))\n",
    "        a2=self.length*self.breadth\n",
    "        print(\"the area of the rectangle is : \",a2)\n",
    "\n",
    "\n",
    "n=input(\"enter the shape :\")\n",
    "if n==\"circle\":\n",
    "    c=circle()\n",
    "    time.sleep(4)\n",
    "    c.area()\n",
    "\n",
    "elif n==\"rectangle\":\n",
    "    r=rectangle()\n",
    "    time.sleep(4)\n",
    "    r.area_2()\n",
    "\n",
    "else:\n",
    "    print(\"shape not valid\")"
   ]
  },
  {
   "cell_type": "code",
   "execution_count": null,
   "id": "6937fd1d-8031-468a-bdda-018fe82671cd",
   "metadata": {},
   "outputs": [],
   "source": []
  }
 ],
 "metadata": {
  "kernelspec": {
   "display_name": "Python 3 (ipykernel)",
   "language": "python",
   "name": "python3"
  },
  "language_info": {
   "codemirror_mode": {
    "name": "ipython",
    "version": 3
   },
   "file_extension": ".py",
   "mimetype": "text/x-python",
   "name": "python",
   "nbconvert_exporter": "python",
   "pygments_lexer": "ipython3",
   "version": "3.10.11"
  }
 },
 "nbformat": 4,
 "nbformat_minor": 5
}
