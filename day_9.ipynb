{
 "cells": [
  {
   "cell_type": "code",
   "execution_count": 1,
   "id": "c742840a-039d-4c7c-87ce-9b0ba588d056",
   "metadata": {},
   "outputs": [
    {
     "name": "stdin",
     "output_type": "stream",
     "text": [
      "enter the brand name : bmw\n",
      "enter the model model:  b6\n"
     ]
    },
    {
     "name": "stdout",
     "output_type": "stream",
     "text": [
      "ordering........\n",
      "the specs of the car ordered\n",
      "the ordered car brand is : bmw\n",
      "the specified model is :  b6\n"
     ]
    },
    {
     "name": "stdin",
     "output_type": "stream",
     "text": [
      "enter the brand name : audi\n",
      "enter the model model:  a6\n"
     ]
    },
    {
     "name": "stdout",
     "output_type": "stream",
     "text": [
      "ordering........\n",
      "the specs of the car ordered\n",
      "the ordered car brand is : audi\n",
      "the specified model is :  a6\n"
     ]
    }
   ],
   "source": [
    "#classes and objects basics\n",
    "import time\n",
    "class car():\n",
    "    def __init__(self):\n",
    "        self.brand=input(\"enter the brand name :\")\n",
    "        self.model=input(\"enter the model model: \")\n",
    "    def display(self):\n",
    "        print(\"the ordered car brand is :\",self.brand)\n",
    "        print(\"the specified model is : \",self.model)\n",
    "    @staticmethod\n",
    "    def print():\n",
    "        print(\"ordering........\")\n",
    "        time.sleep(3)\n",
    "        print(\"the specs of the car ordered\")\n",
    "\n",
    "freddy=car()\n",
    "freddy.print()\n",
    "freddy.display()\n",
    "\n",
    "freak=car()\n",
    "freak.print()\n",
    "freak.display()\n",
    "\n",
    "\n",
    "\n"
   ]
  },
  {
   "cell_type": "code",
   "execution_count": null,
   "id": "be55c616-9b15-438a-9847-430a8c6364e8",
   "metadata": {},
   "outputs": [],
   "source": []
  }
 ],
 "metadata": {
  "kernelspec": {
   "display_name": "Python 3 (ipykernel)",
   "language": "python",
   "name": "python3"
  },
  "language_info": {
   "codemirror_mode": {
    "name": "ipython",
    "version": 3
   },
   "file_extension": ".py",
   "mimetype": "text/x-python",
   "name": "python",
   "nbconvert_exporter": "python",
   "pygments_lexer": "ipython3",
   "version": "3.10.11"
  }
 },
 "nbformat": 4,
 "nbformat_minor": 5
}
