{
 "cells": [
  {
   "cell_type": "code",
   "execution_count": 1,
   "id": "eff51818-270e-4aaa-ba3b-88b78f2540cb",
   "metadata": {},
   "outputs": [
    {
     "name": "stdout",
     "output_type": "stream",
     "text": [
      "your milk is added to the cart\n",
      "your apple is added to the cart\n",
      "your juice is added to the cart\n",
      "your chips is added to the cart\n",
      "the items in the cart are : \n",
      "\n",
      "1.milk\n",
      "2.apple\n",
      "3.juice\n",
      "4.chips\n",
      "total items in your cart :  4\n",
      "chips has been removed from the cart\n",
      "the items in the cart are : \n",
      "\n",
      "1.milk\n",
      "2.apple\n",
      "3.juice\n",
      "total items in your cart :  3\n",
      "the items in your cart as sentence :  milk,apple,juice\n"
     ]
    }
   ],
   "source": [
    "#Mini Project: Shopping Cart\n",
    "cart=[]\n",
    "def add_items(items):\n",
    "    cart.append(items)\n",
    "    print(f\"your {items} is added to the cart\")\n",
    "\n",
    "def remove_items(items):\n",
    "    if items in cart:\n",
    "        cart.remove(items)\n",
    "        print(f\"{items} has been removed from the cart\")\n",
    "    else:\n",
    "        print(f\"{items} has not been found\")\n",
    "\n",
    "def view_cart():\n",
    "    if cart:\n",
    "        print(\"the items in the cart are : \\n\")\n",
    "        for i,items in enumerate(cart,1):\n",
    "            print(f\"{i}.{items}\")\n",
    "    else:\n",
    "        print(\"your cart is empty\")\n",
    "\n",
    "    print(\"total items in your cart : \",len(cart))\n",
    "def view_cart_str():\n",
    "    cart_1=\",\".join(cart)\n",
    "    return(cart_1)\n",
    "\n",
    "add_items(\"milk\")\n",
    "add_items(\"apple\")\n",
    "add_items(\"juice\")\n",
    "add_items(\"chips\")\n",
    "view_cart()\n",
    "\n",
    "remove_items(\"chips\")\n",
    "view_cart()\n",
    "\n",
    "print(\"the items in your cart as sentence : \",view_cart_str())\n",
    "\n"
   ]
  },
  {
   "cell_type": "code",
   "execution_count": null,
   "id": "1fe7ecef-8310-43cf-b4d1-8ab4009a0ecb",
   "metadata": {},
   "outputs": [],
   "source": []
  }
 ],
 "metadata": {
  "kernelspec": {
   "display_name": "Python 3 (ipykernel)",
   "language": "python",
   "name": "python3"
  },
  "language_info": {
   "codemirror_mode": {
    "name": "ipython",
    "version": 3
   },
   "file_extension": ".py",
   "mimetype": "text/x-python",
   "name": "python",
   "nbconvert_exporter": "python",
   "pygments_lexer": "ipython3",
   "version": "3.10.11"
  }
 },
 "nbformat": 4,
 "nbformat_minor": 5
}
