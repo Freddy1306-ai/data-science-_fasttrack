{
 "cells": [
  {
   "cell_type": "code",
   "execution_count": 1,
   "id": "0fd3aedc-b1fb-4c4d-950b-c4e01b2fb7b0",
   "metadata": {},
   "outputs": [
    {
     "name": "stdout",
     "output_type": "stream",
     "text": [
      "(1, 2, 3, 4, 5, 2, 2, 2)\n",
      "(1, 3, 5, 2)\n",
      "3\n",
      "4\n",
      "2\n",
      "(1, 2, 3, (4, 5, 'apple'), 5, 6)\n",
      "1 , 2 , [3, 4, 6]\n"
     ]
    }
   ],
   "source": [
    "#tuples\n",
    "#creating and indexing a tuple\n",
    "\n",
    "my_tup_1=(1,2,3,4,5,2,2,2)\n",
    "print(my_tup_1)\n",
    "\n",
    "#indexing and slicing\n",
    "print(my_tup_1[::2])\n",
    "print(my_tup_1[2])\n",
    "\n",
    "#Check immutability\n",
    "#print(my_tup_1.add(2))#error observed\n",
    "\n",
    "#tuple methods\n",
    "print(my_tup_1.count(2))\n",
    "print(my_tup_1.index(3))\n",
    "\n",
    "#nested tuples\n",
    "my_tup_2=(1,2,3,(4,5,'apple'),5,6)\n",
    "print(my_tup_2)\n",
    "\n",
    "#tuple unpacking\n",
    "a,b,*c=(1,2,3,4,6)\n",
    "print(a,',',b,',',c)"
   ]
  },
  {
   "cell_type": "code",
   "execution_count": 2,
   "id": "649cf11a-0659-4d43-8767-3cecfe6727cd",
   "metadata": {},
   "outputs": [
    {
     "name": "stdout",
     "output_type": "stream",
     "text": [
      "{'name': 'freddy', 'age': 20}\n",
      "freddy\n",
      "{'name': 'freak', 'age': 20}\n",
      "{'name': 'freak', 'age': 20, 'salary': 20000}\n",
      "{'name': 'freak', 'salary': 20000}\n",
      "{'name': 'freak'}\n",
      "{'name': 'freak', 'salary': 20000, 'job': 'AI&ML dev'}\n",
      "{'name': 'freak', 'salary': 20000, 'job': 'AI&ML dev', 'course': 'ML'}\n",
      "15000\n",
      "{'name': 'freak', 'salary': 20000, 'job': 'AI&ML dev', 'course': 'ML', 'freddy': {'name': 'freddy', 'age': 20, 'salary': 15000}, 'freak': {'name': 'freak', 'age': 23, 'salary': 20000}}\n",
      "{0: 0, 1: 1, 2: 4, 3: 9, 4: 16, 5: 25}\n",
      "{'value': 1}\n"
     ]
    }
   ],
   "source": [
    "#dictionary\n",
    "#create dictionary,access and update values\n",
    "my_dict_1={'name':'freddy',\n",
    "           'age':20}\n",
    "print(my_dict_1)\n",
    "print(my_dict_1['name'])\n",
    "my_dict_1['name']='freak'\n",
    "print(my_dict_1)\n",
    "my_dict_1['salary']=20000\n",
    "print(my_dict_1)\n",
    "\n",
    "#remove item\n",
    "my_dict_1.pop('age')\n",
    "print(my_dict_1)\n",
    "my_dict_1.popitem()\n",
    "print(my_dict_1)\n",
    "\n",
    "#update\n",
    "my_dict_1.update({'salary':20000,'job':'AI&ML dev'})\n",
    "print(my_dict_1)\n",
    "my_dict_1.update({\"salary\": 20000, \"course\": \"ML\"})\n",
    "print(my_dict_1)\n",
    "\n",
    "#nested dictionries\n",
    "my_dict_2={'freddy':{'name':'freddy',\n",
    "                    'age':20,\n",
    "                     'salary':15000},\n",
    "           'freak':{'name':'freak',\n",
    "                    'age':23,\n",
    "                    'salary':20000}\n",
    "           }\n",
    "print(my_dict_2['freddy']['salary'])\n",
    "\n",
    "print(my_dict_1|my_dict_2)\n",
    "\n",
    "#looping through dictionaries(comprehension)\n",
    "#printing square numbers\n",
    "my_dict_3={x:x**2 for x in range(6)}\n",
    "print(my_dict_3)\n",
    "\n",
    "#set default values\n",
    "my_dict_4={}\n",
    "my_dict_4.setdefault(\"value\",0)\n",
    "my_dict_4[\"value\"]+=1\n",
    "print(my_dict_4)\n"
   ]
  },
  {
   "cell_type": "code",
   "execution_count": null,
   "id": "7c100bb4-8ff9-49b9-945f-4827b73c9c3f",
   "metadata": {},
   "outputs": [],
   "source": []
  }
 ],
 "metadata": {
  "kernelspec": {
   "display_name": "Python 3 (ipykernel)",
   "language": "python",
   "name": "python3"
  },
  "language_info": {
   "codemirror_mode": {
    "name": "ipython",
    "version": 3
   },
   "file_extension": ".py",
   "mimetype": "text/x-python",
   "name": "python",
   "nbconvert_exporter": "python",
   "pygments_lexer": "ipython3",
   "version": "3.10.11"
  }
 },
 "nbformat": 4,
 "nbformat_minor": 5
}
