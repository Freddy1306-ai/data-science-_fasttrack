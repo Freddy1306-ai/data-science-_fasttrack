{
 "cells": [
  {
   "cell_type": "code",
   "execution_count": 1,
   "id": "6507eaa1-bc92-4de5-9091-9e86494dd1e8",
   "metadata": {},
   "outputs": [
    {
     "name": "stdout",
     "output_type": "stream",
     "text": [
      "freddy greetings !\n"
     ]
    }
   ],
   "source": [
    "#A function that greets a user with customizable message\n",
    "def greet(name,message=\"welcome\",punctuation=\"!\"):\n",
    "    print(f\"{name} {message} {punctuation}\")\n",
    "greet(\"freddy\",message=\"greetings\")"
   ]
  },
  {
   "cell_type": "code",
   "execution_count": 2,
   "id": "516e524e-084f-4024-943a-dece67873ab9",
   "metadata": {},
   "outputs": [
    {
     "name": "stdout",
     "output_type": "stream",
     "text": [
      "the sum of the numbers is :  20\n",
      "{'name': 'freddy', 'age': '20'}\n"
     ]
    }
   ],
   "source": [
    "#Create a function that accepts any number of numbers (*args) and returns their sum\n",
    "def sum_1(*args):\n",
    "    j=0\n",
    "    for i in args:\n",
    "        j=j+i\n",
    "    print(\"the sum of the numbers is : \",j)\n",
    "sum_1(2,3,4,5,6)\n",
    "\n",
    "#Create another function that prints key–value pairs from **kwargs\n",
    "def key(**kwargs):\n",
    "    print(kwargs)\n",
    "key(name=\"freddy\",age=\"20\")\n"
   ]
  },
  {
   "cell_type": "code",
   "execution_count": 3,
   "id": "5f6a5cfc-fe45-4125-ba29-a0a325b9fe15",
   "metadata": {},
   "outputs": [
    {
     "name": "stdout",
     "output_type": "stream",
     "text": [
      "25\n",
      "[('freak', 17), ('freddy', 20)]\n"
     ]
    }
   ],
   "source": [
    "#Use a lambda to square a number\n",
    "s=lambda a:a*a\n",
    "print(s(5))\n",
    "\n",
    "#Sort a list of tuples (name, age) by age using lambda as key\n",
    "lst=[(\"freddy\",20),(\"freak\",17)]\n",
    "sorted_lst=sorted(lst,key=lambda x: x[1])\n",
    "print(sorted_lst)\n"
   ]
  },
  {
   "cell_type": "code",
   "execution_count": 4,
   "id": "9b4944b9-ed70-427f-adb1-1e1ca9c34c3e",
   "metadata": {},
   "outputs": [
    {
     "name": "stdout",
     "output_type": "stream",
     "text": [
      "['STAR', 'APPLE', 'MANGO']\n",
      "[2, 4, 6, 8, 10]\n",
      "3628800\n"
     ]
    }
   ],
   "source": [
    "#Use map() to convert a list of strings to uppercase\n",
    "lst=[\"star\",\"apple\",\"mango\"]\n",
    "upp=list(map(str.upper,lst))\n",
    "print(upp)\n",
    "\n",
    "#Use filter() to keep only even numbers from a list\n",
    "num=[2,3,4,5,6,7,8,9,10]\n",
    "even=list(filter(lambda x: x%2==0,num))\n",
    "print(even)\n",
    "\n",
    "#Use reduce() (from functools) to find the product of a list\n",
    "from functools import reduce\n",
    "product=reduce(lambda x,y : x*y,num)\n",
    "print(product)\n"
   ]
  },
  {
   "cell_type": "code",
   "execution_count": 5,
   "id": "27d358d7-6442-4ca2-a33d-2c6484ac5186",
   "metadata": {},
   "outputs": [
    {
     "name": "stdout",
     "output_type": "stream",
     "text": [
      "1\n",
      "1\n"
     ]
    }
   ],
   "source": [
    "#Create a function showing difference between local & global variables\n",
    "count=0\n",
    "def is_even(a):\n",
    "    global count\n",
    "    if a%2==0:\n",
    "        count+=1\n",
    "    return count\n",
    "\n",
    "print(is_even(4))\n",
    "\n",
    "def is_even(b):\n",
    "    count=0\n",
    "    if b%2==0:\n",
    "        count+=1\n",
    "    return count\n",
    "print(is_even(4))\n",
    "\n"
   ]
  },
  {
   "cell_type": "code",
   "execution_count": null,
   "id": "fb73aac5-f79f-4977-a32a-b9f19a1ee8b9",
   "metadata": {},
   "outputs": [],
   "source": []
  }
 ],
 "metadata": {
  "kernelspec": {
   "display_name": "Python 3 (ipykernel)",
   "language": "python",
   "name": "python3"
  },
  "language_info": {
   "codemirror_mode": {
    "name": "ipython",
    "version": 3
   },
   "file_extension": ".py",
   "mimetype": "text/x-python",
   "name": "python",
   "nbconvert_exporter": "python",
   "pygments_lexer": "ipython3",
   "version": "3.10.11"
  }
 },
 "nbformat": 4,
 "nbformat_minor": 5
}
