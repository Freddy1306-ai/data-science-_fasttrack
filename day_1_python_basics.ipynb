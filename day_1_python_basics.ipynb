{
 "cells": [
  {
   "cell_type": "code",
   "execution_count": 1,
   "id": "62f8b0df-b55b-487b-81b2-6c5a35854a19",
   "metadata": {},
   "outputs": [
    {
     "name": "stdout",
     "output_type": "stream",
     "text": [
      "Name: Sai Prasanth\n",
      "Age: 25\n",
      "Height: 5.9\n",
      "Student: True\n",
      "10 20 30\n",
      "<class 'str'>\n",
      "<class 'int'>\n"
     ]
    }
   ],
   "source": [
    "# String\n",
    "name = \"Sai Prasanth\"\n",
    "print(\"Name:\", name)\n",
    "\n",
    "# Integer\n",
    "age = 25\n",
    "print(\"Age:\", age)\n",
    "\n",
    "# Float\n",
    "height = 5.9\n",
    "print(\"Height:\", height)\n",
    "\n",
    "# Boolean\n",
    "is_student = True\n",
    "print(\"Student:\", is_student)\n",
    "\n",
    "# Multiple variables\n",
    "a, b, c = 10, 20, 30\n",
    "print(a, b, c)\n",
    "\n",
    "# Type checking\n",
    "print(type(name))\n",
    "print(type(age))\n"
   ]
  },
  {
   "cell_type": "code",
   "execution_count": 2,
   "id": "f24187d6-55c2-4cb6-b213-2ca2fb7bcffd",
   "metadata": {},
   "outputs": [
    {
     "name": "stdout",
     "output_type": "stream",
     "text": [
      "I'm freddy .I'm 20 years old. I'm from chennai and I would love to to play games and reading books\n"
     ]
    }
   ],
   "source": [
    "name=\"freddy\"\n",
    "age=\"20\"\n",
    "city=\"chennai\"\n",
    "hobby=\"to play games and reading books\"\n",
    "\n",
    "print(\"I'm\",name,\".I'm\",age,\"years old.\",\"I'm from\",city,\"and I would love to\",hobby)"
   ]
  },
  {
   "cell_type": "code",
   "execution_count": null,
   "id": "d804366e-075a-4a46-b540-befb0f2fff22",
   "metadata": {},
   "outputs": [],
   "source": []
  }
 ],
 "metadata": {
  "kernelspec": {
   "display_name": "Python 3 (ipykernel)",
   "language": "python",
   "name": "python3"
  },
  "language_info": {
   "codemirror_mode": {
    "name": "ipython",
    "version": 3
   },
   "file_extension": ".py",
   "mimetype": "text/x-python",
   "name": "python",
   "nbconvert_exporter": "python",
   "pygments_lexer": "ipython3",
   "version": "3.10.11"
  }
 },
 "nbformat": 4,
 "nbformat_minor": 5
}
